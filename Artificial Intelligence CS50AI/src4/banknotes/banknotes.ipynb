{
 "cells": [
  {
   "cell_type": "code",
   "execution_count": 8,
   "metadata": {},
   "outputs": [],
   "source": [
    "import csv\n",
    "import random\n",
    "\n",
    "from sklearn import svm\n",
    "from sklearn.linear_model import Perceptron\n",
    "from sklearn.naive_bayes import GaussianNB\n",
    "from sklearn.neighbors import KNeighborsClassifier\n",
    "from sklearn.model_selection import train_test_split\n",
    "\n",
    "# Read data in from file\n",
    "with open(\"banknotes.csv\") as f:\n",
    "    reader = csv.reader(f)\n",
    "    next(reader)\n",
    "\n",
    "    data = []\n",
    "    for row in reader:\n",
    "        data.append({\n",
    "            \"evidence\": [float(cell) for cell in row[:4]],\n",
    "            \"label\": \"Authentic\" if row[4] == \"0\" else \"Counterfeit\"\n",
    "        })\n",
    "\n",
    "# Separate data into training and testing groups\n",
    "holdout = int(0.40 * len(data))\n",
    "random.shuffle(data)\n",
    "testing = data[:holdout]\n",
    "training = data[holdout:]\n",
    "\n",
    "def run_model(model):\n",
    "    # Train model on training set\n",
    "    X_training = [row[\"evidence\"] for row in training]\n",
    "    y_training = [row[\"label\"] for row in training]\n",
    "    model.fit(X_training, y_training)\n",
    "\n",
    "    # Make predictions on the testing set\n",
    "    X_testing = [row[\"evidence\"] for row in testing]\n",
    "    y_testing = [row[\"label\"] for row in testing]\n",
    "    predictions = model.predict(X_testing)\n",
    "\n",
    "    # Compute how well we performed\n",
    "    correct = 0\n",
    "    incorrect = 0\n",
    "    total = 0\n",
    "    for actual, predicted in zip(y_testing, predictions):\n",
    "        total += 1\n",
    "        if actual == predicted:\n",
    "            correct += 1\n",
    "        else:\n",
    "            incorrect += 1\n",
    "\n",
    "    # Print results\n",
    "    print(f\"Results for model {type(model).__name__}\")\n",
    "    print(f\"Correct: {correct}\")\n",
    "    print(f\"Incorrect: {incorrect}\")\n",
    "    print(f\"Accuracy: {100 * correct / total:.2f}%\")"
   ]
  },
  {
   "cell_type": "code",
   "execution_count": 4,
   "metadata": {},
   "outputs": [
    {
     "name": "stdout",
     "output_type": "stream",
     "text": [
      "Results for model Perceptron\n",
      "Correct: 540\n",
      "Incorrect: 8\n",
      "Accuracy: 98.54%\n"
     ]
    }
   ],
   "source": [
    "model = Perceptron()\n",
    "run_model(model)"
   ]
  },
  {
   "cell_type": "code",
   "execution_count": 5,
   "metadata": {},
   "outputs": [
    {
     "name": "stdout",
     "output_type": "stream",
     "text": [
      "Results for model SVC\n",
      "Correct: 546\n",
      "Incorrect: 2\n",
      "Accuracy: 99.64%\n"
     ]
    }
   ],
   "source": [
    "model = svm.SVC()\n",
    "run_model(model)"
   ]
  },
  {
   "cell_type": "code",
   "execution_count": 6,
   "metadata": {},
   "outputs": [
    {
     "name": "stdout",
     "output_type": "stream",
     "text": [
      "Results for model KNeighborsClassifier\n",
      "Correct: 548\n",
      "Incorrect: 0\n",
      "Accuracy: 100.00%\n"
     ]
    }
   ],
   "source": [
    "model = KNeighborsClassifier(n_neighbors=1)\n",
    "run_model(model)"
   ]
  },
  {
   "cell_type": "code",
   "execution_count": 7,
   "metadata": {},
   "outputs": [
    {
     "name": "stdout",
     "output_type": "stream",
     "text": [
      "Results for model KNeighborsClassifier\n",
      "Correct: 548\n",
      "Incorrect: 0\n",
      "Accuracy: 100.00%\n"
     ]
    }
   ],
   "source": [
    "model = KNeighborsClassifier(n_neighbors=3)\n",
    "run_model(model)"
   ]
  },
  {
   "cell_type": "code",
   "execution_count": 10,
   "metadata": {},
   "outputs": [],
   "source": [
    "def train_test_split_model(model, split_fraction=0.5):\n",
    "    # Separate data into training and testing groups\n",
    "    evidence = [row[\"evidence\"] for row in data]\n",
    "    labels = [row[\"label\"] for row in data]\n",
    "\n",
    "    X_training, X_testing, y_training, y_testing = train_test_split(\n",
    "        evidence, labels, test_size=split_fraction\n",
    "    )\n",
    "\n",
    "    # Fit model\n",
    "    model.fit(X_training, y_training)\n",
    "\n",
    "    # Make predictions on the testing set\n",
    "    predictions = model.predict(X_testing)\n",
    "\n",
    "    # Compute how well we performed\n",
    "    correct = (y_testing == predictions).sum()\n",
    "    incorrect = (y_testing != predictions).sum()\n",
    "    total = len(predictions)\n",
    "\n",
    "    # Print results\n",
    "    print(f\"Results for model {type(model).__name__}\")\n",
    "    print(f\"Correct: {correct}\")\n",
    "    print(f\"Incorrect: {incorrect}\")\n",
    "    print(f\"Accuracy: {100 * correct / total:.2f}%\")"
   ]
  },
  {
   "cell_type": "code",
   "execution_count": 11,
   "metadata": {},
   "outputs": [
    {
     "name": "stdout",
     "output_type": "stream",
     "text": [
      "Results for model Perceptron\n",
      "Correct: 676\n",
      "Incorrect: 10\n",
      "Accuracy: 98.54%\n"
     ]
    }
   ],
   "source": [
    "train_test_split_model(Perceptron())"
   ]
  },
  {
   "cell_type": "code",
   "execution_count": 12,
   "metadata": {},
   "outputs": [
    {
     "name": "stdout",
     "output_type": "stream",
     "text": [
      "Results for model SVC\n",
      "Correct: 683\n",
      "Incorrect: 3\n",
      "Accuracy: 99.56%\n"
     ]
    }
   ],
   "source": [
    "train_test_split_model(svm.SVC())"
   ]
  },
  {
   "cell_type": "code",
   "execution_count": 13,
   "metadata": {},
   "outputs": [
    {
     "name": "stdout",
     "output_type": "stream",
     "text": [
      "Results for model GaussianNB\n",
      "Correct: 575\n",
      "Incorrect: 111\n",
      "Accuracy: 83.82%\n"
     ]
    }
   ],
   "source": [
    "train_test_split_model(GaussianNB())"
   ]
  },
  {
   "cell_type": "code",
   "execution_count": 14,
   "metadata": {},
   "outputs": [
    {
     "name": "stdout",
     "output_type": "stream",
     "text": [
      "Results for model KNeighborsClassifier\n",
      "Correct: 686\n",
      "Incorrect: 0\n",
      "Accuracy: 100.00%\n"
     ]
    }
   ],
   "source": [
    "train_test_split_model(KNeighborsClassifier(n_neighbors=5))"
   ]
  }
 ],
 "metadata": {
  "kernelspec": {
   "display_name": "base",
   "language": "python",
   "name": "python3"
  },
  "language_info": {
   "codemirror_mode": {
    "name": "ipython",
    "version": 3
   },
   "file_extension": ".py",
   "mimetype": "text/x-python",
   "name": "python",
   "nbconvert_exporter": "python",
   "pygments_lexer": "ipython3",
   "version": "3.11.7"
  }
 },
 "nbformat": 4,
 "nbformat_minor": 2
}
