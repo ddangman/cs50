{
 "cells": [
  {
   "cell_type": "code",
   "execution_count": 1,
   "metadata": {},
   "outputs": [],
   "source": [
    "from logic import *\n",
    "import termcolor\n",
    "\n",
    "def check_knowledge(knowledge):\n",
    "    for symbol in symbols:\n",
    "        if model_check(knowledge, symbol):\n",
    "            termcolor.cprint(f\"{symbol}: YES\", \"green\")\n",
    "        elif not model_check(knowledge, Not(symbol)):\n",
    "            print(f\"{symbol}: MAYBE\")"
   ]
  },
  {
   "cell_type": "markdown",
   "metadata": {},
   "source": [
    "# Harry\n",
    "If it didn't rain, Harry visited Hagrid today. <br>\n",
    "Harry visited Hagrid or Dumbledore today, but not both.<br>\n",
    "Harry visited Dumbledore today.<br>\n",
    "It rained today.<br>\n",
    "Harry did not visit Hagrid today."
   ]
  },
  {
   "cell_type": "code",
   "execution_count": 2,
   "metadata": {},
   "outputs": [],
   "source": [
    "# we have three symbols: rain, hagrid, dumbledore\n",
    "rain = Symbol(\"rain\") # It is raining\n",
    "hagrid = Symbol(\"hagrid\") # Harry visited Hagrid\n",
    "dumbledore = Symbol(\"dumbledore\") # Harry visited Dumbledore"
   ]
  },
  {
   "cell_type": "code",
   "execution_count": 3,
   "metadata": {},
   "outputs": [
    {
     "name": "stdout",
     "output_type": "stream",
     "text": [
      "rain ∧ hagrid\n"
     ]
    }
   ],
   "source": [
    "sentence = And(rain, hagrid)\n",
    "print(sentence.formula())"
   ]
  },
  {
   "cell_type": "code",
   "execution_count": 4,
   "metadata": {},
   "outputs": [
    {
     "name": "stdout",
     "output_type": "stream",
     "text": [
      "(¬rain) => hagrid\n"
     ]
    }
   ],
   "source": [
    "# If it didn't rain, Harry visited Hagrid today.\n",
    "knowledge = Implication(Not(rain), hagrid)\n",
    "print(knowledge.formula())"
   ]
  },
  {
   "cell_type": "code",
   "execution_count": 5,
   "metadata": {},
   "outputs": [
    {
     "name": "stdout",
     "output_type": "stream",
     "text": [
      "((¬rain) => hagrid) ∧ (hagrid ∨  dumbledore) ∧ (¬(hagrid ∧ dumbledore)) ∧ dumbledore\n"
     ]
    }
   ],
   "source": [
    "knowledge = And(\n",
    "    Implication(Not(rain), hagrid), # If it didn't rain, Harry visited Hagrid today.\n",
    "    # Harry visited Hagrid or Dumbledore today, but not both.\n",
    "    Or(hagrid, dumbledore), Not(And(hagrid, dumbledore)),\n",
    "    dumbledore # Harry visited Dumbledore today.\n",
    ")\n",
    "\n",
    "print(knowledge.formula())"
   ]
  },
  {
   "cell_type": "markdown",
   "metadata": {},
   "source": [
    "# Clue"
   ]
  },
  {
   "cell_type": "code",
   "execution_count": 6,
   "metadata": {},
   "outputs": [],
   "source": [
    "mustard = Symbol(\"ColMustard\")\n",
    "plum = Symbol(\"ProfPlum\")\n",
    "scarlet = Symbol(\"MsScarlet\")\n",
    "characters = [mustard, plum, scarlet]\n",
    "\n",
    "ballroom = Symbol(\"ballroom\")\n",
    "kitchen = Symbol(\"kitchen\")\n",
    "library = Symbol(\"library\")\n",
    "rooms = [ballroom, kitchen, library]\n",
    "\n",
    "knife = Symbol(\"knife\")\n",
    "revolver = Symbol(\"revolver\")\n",
    "wrench = Symbol(\"wrench\")\n",
    "weapons = [knife, revolver, wrench]\n",
    "\n",
    "symbols = characters + rooms + weapons"
   ]
  },
  {
   "cell_type": "code",
   "execution_count": 7,
   "metadata": {},
   "outputs": [
    {
     "name": "stdout",
     "output_type": "stream",
     "text": [
      "(ColMustard ∨  ProfPlum ∨  MsScarlet) ∧ (ballroom ∨  kitchen ∨  library) ∧ (knife ∨  revolver ∨  wrench)\n"
     ]
    }
   ],
   "source": [
    "# There must be a person, room, and weapon.\n",
    "# the killer, the roon, and the weapon cards are inside an envelope\n",
    "knowledge = And(\n",
    "    Or(mustard, plum, scarlet), # one of these people is the killer\n",
    "    Or(ballroom, kitchen, library), # one of these rooms is the scene of the crime\n",
    "    Or(knife, revolver, wrench) # one of these weapons was used to commit the crime\n",
    ")\n",
    "\n",
    "print(knowledge.formula())"
   ]
  },
  {
   "cell_type": "code",
   "execution_count": 8,
   "metadata": {},
   "outputs": [
    {
     "name": "stdout",
     "output_type": "stream",
     "text": [
      "ColMustard: MAYBE\n",
      "ProfPlum: MAYBE\n",
      "MsScarlet: MAYBE\n",
      "ballroom: MAYBE\n",
      "kitchen: MAYBE\n",
      "library: MAYBE\n",
      "knife: MAYBE\n",
      "revolver: MAYBE\n",
      "wrench: MAYBE\n"
     ]
    }
   ],
   "source": [
    "check_knowledge(knowledge)"
   ]
  },
  {
   "cell_type": "code",
   "execution_count": 9,
   "metadata": {},
   "outputs": [
    {
     "name": "stdout",
     "output_type": "stream",
     "text": [
      "ProfPlum: MAYBE\n",
      "MsScarlet: MAYBE\n",
      "ballroom: MAYBE\n",
      "library: MAYBE\n",
      "knife: MAYBE\n",
      "wrench: MAYBE\n"
     ]
    }
   ],
   "source": [
    "# cards in hand\n",
    "knowledge.add(And(\n",
    "    Not(mustard), Not(kitchen), Not(revolver)\n",
    "))\n",
    "\n",
    "# if cards in hand, they are not in the envelope\n",
    "check_knowledge(knowledge)"
   ]
  },
  {
   "cell_type": "code",
   "execution_count": 10,
   "metadata": {},
   "outputs": [
    {
     "name": "stdout",
     "output_type": "stream",
     "text": [
      "ProfPlum: MAYBE\n",
      "MsScarlet: MAYBE\n",
      "ballroom: MAYBE\n",
      "library: MAYBE\n",
      "knife: MAYBE\n",
      "wrench: MAYBE\n"
     ]
    }
   ],
   "source": [
    "# from another player's guess, we know at least one of these are not in the envelope\n",
    "knowledge.add(Or(\n",
    "    Not(scarlet), Not(library), Not(wrench)\n",
    "))\n",
    "\n",
    "check_knowledge(knowledge)"
   ]
  },
  {
   "cell_type": "code",
   "execution_count": 11,
   "metadata": {},
   "outputs": [
    {
     "name": "stdout",
     "output_type": "stream",
     "text": [
      "\u001b[32mMsScarlet: YES\u001b[0m\n",
      "ballroom: MAYBE\n",
      "library: MAYBE\n",
      "knife: MAYBE\n",
      "wrench: MAYBE\n"
     ]
    }
   ],
   "source": [
    "# card is shown by another player\n",
    "knowledge.add(Not(plum))\n",
    "\n",
    "# we know the only possible killer is Ms. Scarlet\n",
    "check_knowledge(knowledge)"
   ]
  },
  {
   "cell_type": "code",
   "execution_count": 12,
   "metadata": {},
   "outputs": [
    {
     "name": "stdout",
     "output_type": "stream",
     "text": [
      "\u001b[32mMsScarlet: YES\u001b[0m\n",
      "\u001b[32mlibrary: YES\u001b[0m\n",
      "\u001b[32mknife: YES\u001b[0m\n"
     ]
    }
   ],
   "source": [
    "# card is shown by another player\n",
    "knowledge.add(Not(ballroom))\n",
    "\n",
    "# we know the only possible location is library\n",
    "check_knowledge(knowledge)"
   ]
  },
  {
   "cell_type": "markdown",
   "metadata": {},
   "source": [
    "from Or[ Not(scarlet), Not(library), Not(wrench) ], we know it is not(wrench). Then the weapon must be knife."
   ]
  },
  {
   "cell_type": "markdown",
   "metadata": {},
   "source": [
    "# Puzzle\n",
    "• Gilderoy, Minerva, Pomona and Horace each belong to a different one of the four houses: Gryffindor, Hufflepuff, Ravenclaw, and Slytherin House. <br>\n",
    "• Gilderoy belongs to Gryffindor or Ravenclaw. <br>\n",
    "• Pomona does not belong in Slytherin. <br>\n",
    "• Minerva belongs to Gryffindor."
   ]
  },
  {
   "cell_type": "code",
   "execution_count": 13,
   "metadata": {},
   "outputs": [
    {
     "name": "stdout",
     "output_type": "stream",
     "text": [
      "GilderoyGryffindor, GilderoyHufflepuff, GilderoyRavenclaw, GilderoySlytherin\n",
      "PomonaGryffindor, PomonaHufflepuff, PomonaRavenclaw, PomonaSlytherin\n",
      "MinervaGryffindor, MinervaHufflepuff, MinervaRavenclaw, MinervaSlytherin\n",
      "HoraceGryffindor, HoraceHufflepuff, HoraceRavenclaw, HoraceSlytherin\n"
     ]
    }
   ],
   "source": [
    "people = [\"Gilderoy\", \"Pomona\", \"Minerva\", \"Horace\"]\n",
    "houses = [\"Gryffindor\", \"Hufflepuff\", \"Ravenclaw\", \"Slytherin\"]\n",
    "\n",
    "symbols = []\n",
    "\n",
    "knowledge = And()\n",
    "\n",
    "for person in people:\n",
    "    for house in houses:\n",
    "        symbols.append(Symbol(f\"{person}{house}\"))\n",
    "\n",
    "# print all symbols\n",
    "for i in range(1,17):\n",
    "    if i%4 != 0:\n",
    "        print(symbols[i-1], end=\", \")\n",
    "    else:\n",
    "        print(symbols[i-1], end=\"\\n\")"
   ]
  },
  {
   "cell_type": "code",
   "execution_count": 14,
   "metadata": {},
   "outputs": [
    {
     "name": "stdout",
     "output_type": "stream",
     "text": [
      "GilderoyGryffindor: MAYBE\n",
      "GilderoyHufflepuff: MAYBE\n",
      "GilderoyRavenclaw: MAYBE\n",
      "GilderoySlytherin: MAYBE\n",
      "PomonaGryffindor: MAYBE\n",
      "PomonaHufflepuff: MAYBE\n",
      "PomonaRavenclaw: MAYBE\n",
      "PomonaSlytherin: MAYBE\n",
      "MinervaGryffindor: MAYBE\n",
      "MinervaHufflepuff: MAYBE\n",
      "MinervaRavenclaw: MAYBE\n",
      "MinervaSlytherin: MAYBE\n",
      "HoraceGryffindor: MAYBE\n",
      "HoraceHufflepuff: MAYBE\n",
      "HoraceRavenclaw: MAYBE\n",
      "HoraceSlytherin: MAYBE\n"
     ]
    }
   ],
   "source": [
    "# Each person belongs to a house.\n",
    "for person in people:\n",
    "    knowledge.add(Or(\n",
    "        Symbol(f\"{person}Gryffindor\"),\n",
    "        Symbol(f\"{person}Hufflepuff\"),\n",
    "        Symbol(f\"{person}Ravenclaw\"),\n",
    "        Symbol(f\"{person}Slytherin\")\n",
    "    ))\n",
    "\n",
    "check_knowledge(knowledge)"
   ]
  },
  {
   "cell_type": "code",
   "execution_count": 15,
   "metadata": {},
   "outputs": [
    {
     "name": "stdout",
     "output_type": "stream",
     "text": [
      "GilderoyGryffindor: MAYBE\n",
      "GilderoyHufflepuff: MAYBE\n",
      "GilderoyRavenclaw: MAYBE\n",
      "GilderoySlytherin: MAYBE\n",
      "PomonaGryffindor: MAYBE\n",
      "PomonaHufflepuff: MAYBE\n",
      "PomonaRavenclaw: MAYBE\n",
      "PomonaSlytherin: MAYBE\n",
      "MinervaGryffindor: MAYBE\n",
      "MinervaHufflepuff: MAYBE\n",
      "MinervaRavenclaw: MAYBE\n",
      "MinervaSlytherin: MAYBE\n",
      "HoraceGryffindor: MAYBE\n",
      "HoraceHufflepuff: MAYBE\n",
      "HoraceRavenclaw: MAYBE\n",
      "HoraceSlytherin: MAYBE\n"
     ]
    }
   ],
   "source": [
    "# Only one house per person.\n",
    "for person in people:\n",
    "    for h1 in houses:\n",
    "        for h2 in houses:\n",
    "            if h1 != h2:\n",
    "                knowledge.add(\n",
    "                    Implication(Symbol(f\"{person}{h1}\"), Not(Symbol(f\"{person}{h2}\")))\n",
    "                )\n",
    "\n",
    "check_knowledge(knowledge)"
   ]
  },
  {
   "cell_type": "code",
   "execution_count": 16,
   "metadata": {},
   "outputs": [
    {
     "name": "stdout",
     "output_type": "stream",
     "text": [
      "GilderoyGryffindor: MAYBE\n",
      "GilderoyHufflepuff: MAYBE\n",
      "GilderoyRavenclaw: MAYBE\n",
      "GilderoySlytherin: MAYBE\n",
      "PomonaGryffindor: MAYBE\n",
      "PomonaHufflepuff: MAYBE\n",
      "PomonaRavenclaw: MAYBE\n",
      "PomonaSlytherin: MAYBE\n",
      "MinervaGryffindor: MAYBE\n",
      "MinervaHufflepuff: MAYBE\n",
      "MinervaRavenclaw: MAYBE\n",
      "MinervaSlytherin: MAYBE\n",
      "HoraceGryffindor: MAYBE\n",
      "HoraceHufflepuff: MAYBE\n",
      "HoraceRavenclaw: MAYBE\n",
      "HoraceSlytherin: MAYBE\n"
     ]
    }
   ],
   "source": [
    "# Only one person per house.\n",
    "for house in houses:\n",
    "    for p1 in people:\n",
    "        for p2 in people:\n",
    "            if p1 != p2:\n",
    "                knowledge.add(\n",
    "                    Implication(Symbol(f\"{p1}{house}\"), Not(Symbol(f\"{p2}{house}\")))\n",
    "                )\n",
    "\n",
    "check_knowledge(knowledge)"
   ]
  },
  {
   "cell_type": "code",
   "execution_count": 17,
   "metadata": {},
   "outputs": [
    {
     "name": "stdout",
     "output_type": "stream",
     "text": [
      "(GilderoyGryffindor ∨  GilderoyHufflepuff ∨  GilderoyRavenclaw ∨  GilderoySlytherin) ∧ (PomonaGryffindor ∨  PomonaHufflepuff ∨  PomonaRavenclaw ∨  PomonaSlytherin) ∧ (MinervaGryffindor ∨  MinervaHufflepuff ∨  MinervaRavenclaw ∨  MinervaSlytherin) ∧ (HoraceGryffindor ∨  HoraceHufflepuff ∨  HoraceRavenclaw ∨  HoraceSlytherin) ∧ (GilderoyGryffindor => (¬GilderoyHufflepuff)) ∧ (GilderoyGryffindor => (¬GilderoyRavenclaw)) ∧ (GilderoyGryffindor => (¬GilderoySlytherin)) ∧ (GilderoyHufflepuff => (¬GilderoyGryffindor)) ∧ (GilderoyHufflepuff => (¬GilderoyRavenclaw)) ∧ (GilderoyHufflepuff => (¬GilderoySlytherin)) ∧ (GilderoyRavenclaw => (¬GilderoyGryffindor)) ∧ (GilderoyRavenclaw => (¬GilderoyHufflepuff)) ∧ (GilderoyRavenclaw => (¬GilderoySlytherin)) ∧ (GilderoySlytherin => (¬GilderoyGryffindor)) ∧ (GilderoySlytherin => (¬GilderoyHufflepuff)) ∧ (GilderoySlytherin => (¬GilderoyRavenclaw)) ∧ (PomonaGryffindor => (¬PomonaHufflepuff)) ∧ (PomonaGryffindor => (¬PomonaRavenclaw)) ∧ (PomonaGryffindor => (¬PomonaSlytherin)) ∧ (PomonaHufflepuff => (¬PomonaGryffindor)) ∧ (PomonaHufflepuff => (¬PomonaRavenclaw)) ∧ (PomonaHufflepuff => (¬PomonaSlytherin)) ∧ (PomonaRavenclaw => (¬PomonaGryffindor)) ∧ (PomonaRavenclaw => (¬PomonaHufflepuff)) ∧ (PomonaRavenclaw => (¬PomonaSlytherin)) ∧ (PomonaSlytherin => (¬PomonaGryffindor)) ∧ (PomonaSlytherin => (¬PomonaHufflepuff)) ∧ (PomonaSlytherin => (¬PomonaRavenclaw)) ∧ (MinervaGryffindor => (¬MinervaHufflepuff)) ∧ (MinervaGryffindor => (¬MinervaRavenclaw)) ∧ (MinervaGryffindor => (¬MinervaSlytherin)) ∧ (MinervaHufflepuff => (¬MinervaGryffindor)) ∧ (MinervaHufflepuff => (¬MinervaRavenclaw)) ∧ (MinervaHufflepuff => (¬MinervaSlytherin)) ∧ (MinervaRavenclaw => (¬MinervaGryffindor)) ∧ (MinervaRavenclaw => (¬MinervaHufflepuff)) ∧ (MinervaRavenclaw => (¬MinervaSlytherin)) ∧ (MinervaSlytherin => (¬MinervaGryffindor)) ∧ (MinervaSlytherin => (¬MinervaHufflepuff)) ∧ (MinervaSlytherin => (¬MinervaRavenclaw)) ∧ (HoraceGryffindor => (¬HoraceHufflepuff)) ∧ (HoraceGryffindor => (¬HoraceRavenclaw)) ∧ (HoraceGryffindor => (¬HoraceSlytherin)) ∧ (HoraceHufflepuff => (¬HoraceGryffindor)) ∧ (HoraceHufflepuff => (¬HoraceRavenclaw)) ∧ (HoraceHufflepuff => (¬HoraceSlytherin)) ∧ (HoraceRavenclaw => (¬HoraceGryffindor)) ∧ (HoraceRavenclaw => (¬HoraceHufflepuff)) ∧ (HoraceRavenclaw => (¬HoraceSlytherin)) ∧ (HoraceSlytherin => (¬HoraceGryffindor)) ∧ (HoraceSlytherin => (¬HoraceHufflepuff)) ∧ (HoraceSlytherin => (¬HoraceRavenclaw)) ∧ (GilderoyGryffindor => (¬PomonaGryffindor)) ∧ (GilderoyGryffindor => (¬MinervaGryffindor)) ∧ (GilderoyGryffindor => (¬HoraceGryffindor)) ∧ (PomonaGryffindor => (¬GilderoyGryffindor)) ∧ (PomonaGryffindor => (¬MinervaGryffindor)) ∧ (PomonaGryffindor => (¬HoraceGryffindor)) ∧ (MinervaGryffindor => (¬GilderoyGryffindor)) ∧ (MinervaGryffindor => (¬PomonaGryffindor)) ∧ (MinervaGryffindor => (¬HoraceGryffindor)) ∧ (HoraceGryffindor => (¬GilderoyGryffindor)) ∧ (HoraceGryffindor => (¬PomonaGryffindor)) ∧ (HoraceGryffindor => (¬MinervaGryffindor)) ∧ (GilderoyHufflepuff => (¬PomonaHufflepuff)) ∧ (GilderoyHufflepuff => (¬MinervaHufflepuff)) ∧ (GilderoyHufflepuff => (¬HoraceHufflepuff)) ∧ (PomonaHufflepuff => (¬GilderoyHufflepuff)) ∧ (PomonaHufflepuff => (¬MinervaHufflepuff)) ∧ (PomonaHufflepuff => (¬HoraceHufflepuff)) ∧ (MinervaHufflepuff => (¬GilderoyHufflepuff)) ∧ (MinervaHufflepuff => (¬PomonaHufflepuff)) ∧ (MinervaHufflepuff => (¬HoraceHufflepuff)) ∧ (HoraceHufflepuff => (¬GilderoyHufflepuff)) ∧ (HoraceHufflepuff => (¬PomonaHufflepuff)) ∧ (HoraceHufflepuff => (¬MinervaHufflepuff)) ∧ (GilderoyRavenclaw => (¬PomonaRavenclaw)) ∧ (GilderoyRavenclaw => (¬MinervaRavenclaw)) ∧ (GilderoyRavenclaw => (¬HoraceRavenclaw)) ∧ (PomonaRavenclaw => (¬GilderoyRavenclaw)) ∧ (PomonaRavenclaw => (¬MinervaRavenclaw)) ∧ (PomonaRavenclaw => (¬HoraceRavenclaw)) ∧ (MinervaRavenclaw => (¬GilderoyRavenclaw)) ∧ (MinervaRavenclaw => (¬PomonaRavenclaw)) ∧ (MinervaRavenclaw => (¬HoraceRavenclaw)) ∧ (HoraceRavenclaw => (¬GilderoyRavenclaw)) ∧ (HoraceRavenclaw => (¬PomonaRavenclaw)) ∧ (HoraceRavenclaw => (¬MinervaRavenclaw)) ∧ (GilderoySlytherin => (¬PomonaSlytherin)) ∧ (GilderoySlytherin => (¬MinervaSlytherin)) ∧ (GilderoySlytherin => (¬HoraceSlytherin)) ∧ (PomonaSlytherin => (¬GilderoySlytherin)) ∧ (PomonaSlytherin => (¬MinervaSlytherin)) ∧ (PomonaSlytherin => (¬HoraceSlytherin)) ∧ (MinervaSlytherin => (¬GilderoySlytherin)) ∧ (MinervaSlytherin => (¬PomonaSlytherin)) ∧ (MinervaSlytherin => (¬HoraceSlytherin)) ∧ (HoraceSlytherin => (¬GilderoySlytherin)) ∧ (HoraceSlytherin => (¬PomonaSlytherin)) ∧ (HoraceSlytherin => (¬MinervaSlytherin))\n"
     ]
    }
   ],
   "source": [
    "print(knowledge.formula())"
   ]
  },
  {
   "cell_type": "code",
   "execution_count": 18,
   "metadata": {},
   "outputs": [
    {
     "name": "stdout",
     "output_type": "stream",
     "text": [
      "GilderoyGryffindor: MAYBE\n",
      "GilderoyRavenclaw: MAYBE\n",
      "PomonaGryffindor: MAYBE\n",
      "PomonaHufflepuff: MAYBE\n",
      "PomonaRavenclaw: MAYBE\n",
      "PomonaSlytherin: MAYBE\n",
      "MinervaGryffindor: MAYBE\n",
      "MinervaHufflepuff: MAYBE\n",
      "MinervaRavenclaw: MAYBE\n",
      "MinervaSlytherin: MAYBE\n",
      "HoraceGryffindor: MAYBE\n",
      "HoraceHufflepuff: MAYBE\n",
      "HoraceRavenclaw: MAYBE\n",
      "HoraceSlytherin: MAYBE\n"
     ]
    }
   ],
   "source": [
    "# Gilderoy is in Gryffindor or Ravenclaw.\n",
    "knowledge.add(\n",
    "    Or(Symbol(\"GilderoyGryffindor\"), Symbol(\"GilderoyRavenclaw\"))\n",
    ")\n",
    "\n",
    "check_knowledge(knowledge)"
   ]
  },
  {
   "cell_type": "code",
   "execution_count": 19,
   "metadata": {},
   "outputs": [
    {
     "name": "stdout",
     "output_type": "stream",
     "text": [
      "GilderoyGryffindor: MAYBE\n",
      "GilderoyRavenclaw: MAYBE\n",
      "PomonaGryffindor: MAYBE\n",
      "PomonaHufflepuff: MAYBE\n",
      "PomonaRavenclaw: MAYBE\n",
      "MinervaGryffindor: MAYBE\n",
      "MinervaHufflepuff: MAYBE\n",
      "MinervaRavenclaw: MAYBE\n",
      "MinervaSlytherin: MAYBE\n",
      "HoraceGryffindor: MAYBE\n",
      "HoraceHufflepuff: MAYBE\n",
      "HoraceRavenclaw: MAYBE\n",
      "HoraceSlytherin: MAYBE\n"
     ]
    }
   ],
   "source": [
    "# Pomona is not in Slytherin.\n",
    "knowledge.add(\n",
    "    Not(Symbol(\"PomonaSlytherin\"))\n",
    ")\n",
    "\n",
    "check_knowledge(knowledge)"
   ]
  },
  {
   "cell_type": "code",
   "execution_count": 20,
   "metadata": {},
   "outputs": [
    {
     "name": "stdout",
     "output_type": "stream",
     "text": [
      "\u001b[32mGilderoyRavenclaw: YES\u001b[0m\n",
      "\u001b[32mPomonaHufflepuff: YES\u001b[0m\n",
      "\u001b[32mMinervaGryffindor: YES\u001b[0m\n",
      "\u001b[32mHoraceSlytherin: YES\u001b[0m\n"
     ]
    }
   ],
   "source": [
    "# Minerva is in Gryffindor.\n",
    "knowledge.add(\n",
    "    Symbol(\"MinervaGryffindor\")\n",
    ")\n",
    "\n",
    "check_knowledge(knowledge)"
   ]
  },
  {
   "cell_type": "markdown",
   "metadata": {},
   "source": [
    "# Mastermind"
   ]
  },
  {
   "cell_type": "code",
   "execution_count": 22,
   "metadata": {},
   "outputs": [
    {
     "name": "stdout",
     "output_type": "stream",
     "text": [
      "red0, blue0, green0, yellow0\n",
      "red1, blue1, green1, yellow1\n",
      "red2, blue2, green2, yellow2\n",
      "red3, blue3, green3, yellow3\n"
     ]
    }
   ],
   "source": [
    "colors = [\"red\", \"blue\", \"green\", \"yellow\"]\n",
    "symbols = []\n",
    "for i in range(4):\n",
    "    for color in colors:\n",
    "        symbols.append(Symbol(f\"{color}{i}\"))\n",
    "\n",
    "knowledge = And()\n",
    "\n",
    "# Each color has a position.\n",
    "for color in colors:\n",
    "    knowledge.add(Or(\n",
    "        Symbol(f\"{color}0\"),\n",
    "        Symbol(f\"{color}1\"),\n",
    "        Symbol(f\"{color}2\"),\n",
    "        Symbol(f\"{color}3\")\n",
    "    ))\n",
    "\n",
    "# print all symbols\n",
    "for i in range(1,17):\n",
    "    if i%4 != 0:\n",
    "        print(symbols[i-1], end=\", \")\n",
    "    else:\n",
    "        print(symbols[i-1], end=\"\\n\")"
   ]
  },
  {
   "cell_type": "code",
   "execution_count": 23,
   "metadata": {},
   "outputs": [
    {
     "name": "stdout",
     "output_type": "stream",
     "text": [
      "red0: MAYBE\n",
      "blue0: MAYBE\n",
      "green0: MAYBE\n",
      "yellow0: MAYBE\n",
      "red1: MAYBE\n",
      "blue1: MAYBE\n",
      "green1: MAYBE\n",
      "yellow1: MAYBE\n",
      "red2: MAYBE\n",
      "blue2: MAYBE\n",
      "green2: MAYBE\n",
      "yellow2: MAYBE\n",
      "red3: MAYBE\n",
      "blue3: MAYBE\n",
      "green3: MAYBE\n",
      "yellow3: MAYBE\n"
     ]
    }
   ],
   "source": [
    "# Only one position per color.\n",
    "for color in colors:\n",
    "    for i in range(4):\n",
    "        for j in range(4):\n",
    "            if i != j:\n",
    "                knowledge.add(Implication(\n",
    "                    Symbol(f\"{color}{i}\"), Not(Symbol(f\"{color}{j}\"))\n",
    "                ))\n",
    "\n",
    "check_knowledge(knowledge)"
   ]
  },
  {
   "cell_type": "code",
   "execution_count": 24,
   "metadata": {},
   "outputs": [
    {
     "name": "stdout",
     "output_type": "stream",
     "text": [
      "red0: MAYBE\n",
      "blue0: MAYBE\n",
      "green0: MAYBE\n",
      "yellow0: MAYBE\n",
      "red1: MAYBE\n",
      "blue1: MAYBE\n",
      "green1: MAYBE\n",
      "yellow1: MAYBE\n",
      "red2: MAYBE\n",
      "blue2: MAYBE\n",
      "green2: MAYBE\n",
      "yellow2: MAYBE\n",
      "red3: MAYBE\n",
      "blue3: MAYBE\n",
      "green3: MAYBE\n",
      "yellow3: MAYBE\n"
     ]
    }
   ],
   "source": [
    "# Only one color per position.\n",
    "for i in range(4):\n",
    "    for c1 in colors:\n",
    "        for c2 in colors:\n",
    "            if c1 != c2:\n",
    "                knowledge.add(Implication(\n",
    "                    Symbol(f\"{c1}{i}\"), Not(Symbol(f\"{c2}{i}\"))\n",
    "                ))\n",
    "\n",
    "check_knowledge(knowledge)"
   ]
  },
  {
   "cell_type": "code",
   "execution_count": 25,
   "metadata": {},
   "outputs": [
    {
     "name": "stdout",
     "output_type": "stream",
     "text": [
      "red0: MAYBE\n",
      "blue0: MAYBE\n",
      "green0: MAYBE\n",
      "yellow0: MAYBE\n",
      "red1: MAYBE\n",
      "blue1: MAYBE\n",
      "green1: MAYBE\n",
      "yellow1: MAYBE\n",
      "red2: MAYBE\n",
      "blue2: MAYBE\n",
      "green2: MAYBE\n",
      "yellow2: MAYBE\n",
      "red3: MAYBE\n",
      "blue3: MAYBE\n",
      "green3: MAYBE\n",
      "yellow3: MAYBE\n"
     ]
    }
   ],
   "source": [
    "knowledge.add(Or(\n",
    "    And(Symbol(\"red0\"), Symbol(\"blue1\"), Not(Symbol(\"green2\")), Not(Symbol(\"yellow3\"))),\n",
    "    And(Symbol(\"red0\"), Symbol(\"green2\"), Not(Symbol(\"blue1\")), Not(Symbol(\"yellow3\"))),\n",
    "    And(Symbol(\"red0\"), Symbol(\"yellow3\"), Not(Symbol(\"blue1\")), Not(Symbol(\"green2\"))),\n",
    "    And(Symbol(\"blue1\"), Symbol(\"green2\"), Not(Symbol(\"red0\")), Not(Symbol(\"yellow3\"))),\n",
    "    And(Symbol(\"blue1\"), Symbol(\"yellow3\"), Not(Symbol(\"red0\")), Not(Symbol(\"green2\"))),\n",
    "    And(Symbol(\"green2\"), Symbol(\"yellow3\"), Not(Symbol(\"red0\")), Not(Symbol(\"blue1\")))\n",
    "))\n",
    "\n",
    "check_knowledge(knowledge)"
   ]
  },
  {
   "cell_type": "code",
   "execution_count": 26,
   "metadata": {},
   "outputs": [
    {
     "name": "stdout",
     "output_type": "stream",
     "text": [
      "\u001b[32mred0: YES\u001b[0m\n",
      "\u001b[32mblue1: YES\u001b[0m\n",
      "\u001b[32myellow2: YES\u001b[0m\n",
      "\u001b[32mgreen3: YES\u001b[0m\n"
     ]
    }
   ],
   "source": [
    "knowledge.add(And(\n",
    "    Not(Symbol(\"blue0\")),\n",
    "    Not(Symbol(\"red1\")),\n",
    "    Not(Symbol(\"green2\")),\n",
    "    Not(Symbol(\"yellow3\"))\n",
    "))\n",
    "\n",
    "check_knowledge(knowledge)"
   ]
  },
  {
   "cell_type": "markdown",
   "metadata": {},
   "source": [
    "Model checking's time complexity is 2^n"
   ]
  }
 ],
 "metadata": {
  "kernelspec": {
   "display_name": "base",
   "language": "python",
   "name": "python3"
  },
  "language_info": {
   "codemirror_mode": {
    "name": "ipython",
    "version": 3
   },
   "file_extension": ".py",
   "mimetype": "text/x-python",
   "name": "python",
   "nbconvert_exporter": "python",
   "pygments_lexer": "ipython3",
   "version": "3.11.7"
  }
 },
 "nbformat": 4,
 "nbformat_minor": 2
}
