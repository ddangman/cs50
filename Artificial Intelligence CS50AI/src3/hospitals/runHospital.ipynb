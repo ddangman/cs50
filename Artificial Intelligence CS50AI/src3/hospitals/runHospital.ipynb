{
 "cells": [
  {
   "cell_type": "code",
   "execution_count": 2,
   "metadata": {},
   "outputs": [],
   "source": [
    "from hospitals import *"
   ]
  },
  {
   "cell_type": "code",
   "execution_count": 3,
   "metadata": {},
   "outputs": [
    {
     "name": "stdout",
     "output_type": "stream",
     "text": [
      "Initial state: cost 74\n",
      "Found better neighbor: cost 69\n",
      "Found better neighbor: cost 64\n",
      "Found better neighbor: cost 60\n",
      "Found better neighbor: cost 59\n",
      "Found better neighbor: cost 58\n",
      "Found better neighbor: cost 57\n",
      "Found better neighbor: cost 56\n",
      "Found better neighbor: cost 55\n",
      "Found better neighbor: cost 53\n",
      "Found better neighbor: cost 51\n",
      "Found better neighbor: cost 49\n",
      "Found better neighbor: cost 47\n"
     ]
    }
   ],
   "source": [
    "# Create a new space and add houses randomly\n",
    "s = Space(height=10, width=20, num_hospitals=3)\n",
    "for i in range(15):\n",
    "    s.add_house(random.randrange(s.height), random.randrange(s.width))\n",
    "\n",
    "# Use local search to determine hospital placement\n",
    "hospitals = s.hill_climb(image_prefix=\"hospitals\", log=True)"
   ]
  },
  {
   "cell_type": "code",
   "execution_count": 4,
   "metadata": {},
   "outputs": [
    {
     "name": "stdout",
     "output_type": "stream",
     "text": [
      "0: Found new best state: cost 50\n",
      "1: Found state: cost 53\n",
      "2: Found state: cost 53\n",
      "3: Found state: cost 58\n",
      "4: Found state: cost 60\n",
      "5: Found state: cost 55\n",
      "6: Found state: cost 56\n",
      "7: Found new best state: cost 45\n",
      "8: Found state: cost 48\n",
      "9: Found state: cost 46\n",
      "10: Found state: cost 55\n",
      "11: Found state: cost 62\n",
      "12: Found state: cost 53\n",
      "13: Found state: cost 61\n",
      "14: Found state: cost 59\n",
      "15: Found state: cost 56\n",
      "16: Found state: cost 68\n",
      "17: Found state: cost 55\n",
      "18: Found state: cost 55\n",
      "19: Found state: cost 56\n"
     ]
    }
   ],
   "source": [
    "# run hill climbing with random restarts 20 times\n",
    "hospitals = s.random_restart(20, image_prefix=\"hospitals\", log=True)"
   ]
  }
 ],
 "metadata": {
  "kernelspec": {
   "display_name": "base",
   "language": "python",
   "name": "python3"
  },
  "language_info": {
   "codemirror_mode": {
    "name": "ipython",
    "version": 3
   },
   "file_extension": ".py",
   "mimetype": "text/x-python",
   "name": "python",
   "nbconvert_exporter": "python",
   "pygments_lexer": "ipython3",
   "version": "3.11.7"
  }
 },
 "nbformat": 4,
 "nbformat_minor": 2
}
